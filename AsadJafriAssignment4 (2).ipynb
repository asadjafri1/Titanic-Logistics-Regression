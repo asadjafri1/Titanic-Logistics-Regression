{
  "cells": [
    {
      "cell_type": "code",
      "execution_count": null,
      "metadata": {
        "colab": {
          "base_uri": "https://localhost:8080/"
        },
        "id": "Iv8v4JrsOBQH",
        "outputId": "a7d8e528-2050-47b6-9ff0-8d4431d0f965"
      },
      "outputs": [
        {
          "output_type": "stream",
          "name": "stdout",
          "text": [
            "Intercept: [1.0678261]\n",
            "Coefficients: [[-0.03599353  2.39683067 -0.79772612]]\n"
          ]
        }
      ],
      "source": [
        "# Question 1\n",
        "\n",
        "import pandas as pd\n",
        "import numpy as np\n",
        "from sklearn.linear_model import LogisticRegression\n",
        "from sklearn.metrics import log_loss\n",
        "\n",
        "titanic = pd.read_csv('train.csv')\n",
        "\n",
        "X = titanic[['Age', 'Sex', 'Pclass']].values[:200]\n",
        "y = titanic['Survived'].values[:200]\n",
        "\n",
        "\n",
        "X[:, 1] = pd.factorize(X[:, 1])[0]\n",
        "\n",
        "missing_values = pd.DataFrame(X).isnull().any(axis=1)\n",
        "X = X[~missing_values]\n",
        "y = y[~missing_values]\n",
        "\n",
        "logreg_model = LogisticRegression()\n",
        "logreg_model.fit(X, y)\n",
        "\n",
        "print('Intercept:', logreg_model.intercept_)\n",
        "print('Coefficients:', logreg_model.coef_)"
      ]
    },
    {
      "cell_type": "code",
      "source": [
        "# Question 2\n",
        "\n",
        "import pandas as pd\n",
        "from sklearn.linear_model import LogisticRegression\n",
        "from sklearn.metrics import log_loss\n",
        "\n",
        "titanic = pd.read_csv('train.csv')\n",
        "\n",
        "X_train = titanic[['Age', 'Sex', 'Pclass']].values[:200]\n",
        "y_train = titanic['Survived'].values[:200]\n",
        "\n",
        "X_test = titanic[['Age', 'Sex', 'Pclass']].values[200:240]\n",
        "y_test = titanic['Survived'].values[200:240]\n",
        "\n",
        "X_train[:, 1] = pd.factorize(X_train[:, 1])[0]\n",
        "X_test[:, 1] = pd.factorize(X_test[:, 1])[0]\n",
        "\n",
        "missing_values_train = pd.DataFrame(X_train).isnull().any(axis=1)\n",
        "missing_values_test = pd.DataFrame(X_test).isnull().any(axis=1)\n",
        "X_train = X_train[~missing_values_train]\n",
        "y_train = y_train[~missing_values_train]\n",
        "X_test = X_test[~missing_values_test]\n",
        "y_test = y_test[~missing_values_test]\n",
        "\n",
        "logreg_model = LogisticRegression()\n",
        "logreg_model.fit(X_train, y_train)\n",
        "\n",
        "y_pred_proba = logreg_model.predict_proba(X_test)\n",
        "\n",
        "log_loss_value = log_loss(y_test, y_pred_proba)\n",
        "\n",
        "print('Log-loss function value:', log_loss_value)\n"
      ],
      "metadata": {
        "colab": {
          "base_uri": "https://localhost:8080/"
        },
        "id": "Befc-3_b3ZAr",
        "outputId": "597d44ac-1112-4fe4-a3e9-8b348fc8477c"
      },
      "execution_count": null,
      "outputs": [
        {
          "output_type": "stream",
          "name": "stdout",
          "text": [
            "Log-loss function value: 0.4994734263887315\n"
          ]
        }
      ]
    },
    {
      "cell_type": "code",
      "source": [
        "# Question 3\n",
        "\n",
        "from sklearn.neural_network import MLPClassifier\n",
        "\n",
        "n = 48 # Assuming your MacID ends with 48\n",
        "\n",
        "mlp_model_relu = MLPClassifier(hidden_layer_sizes=(2+n, 2+n), activation='relu')\n",
        "mlp_model_relu.fit(X, y)\n",
        "\n",
        "mlp_model_logistic = MLPClassifier(hidden_layer_sizes=(2+n, 2+n), activation='logistic')\n",
        "mlp_model_logistic.fit(X, y)\n",
        "\n",
        "y_pred_proba_relu = mlp_model_relu.predict_proba(X_test)\n",
        "y_pred_proba_logistic = mlp_model_logistic.predict_proba(X_test)\n",
        "\n",
        "log_loss_value_relu = log_loss(y_test, y_pred_proba_relu)\n",
        "log_loss_value_logistic = log_loss(y_test, y_pred_proba_logistic)\n",
        "\n",
        "if log_loss_value_relu < log_loss_value_logistic:\n",
        "    best_model = mlp_model_relu\n",
        "    best_activation = 'relu'\n",
        "else:\n",
        "    best_model = mlp_model_logistic\n",
        "    best_activation = 'logistic'\n",
        "\n",
        "print('Activation function with best accuracy is', best_activation)\n"
      ],
      "metadata": {
        "colab": {
          "base_uri": "https://localhost:8080/"
        },
        "id": "TdeNjxcu4fdc",
        "outputId": "132ad320-69c2-4812-98b8-6c596d154cd2"
      },
      "execution_count": null,
      "outputs": [
        {
          "output_type": "stream",
          "name": "stdout",
          "text": [
            "Activation function with best accuracy is logistic\n"
          ]
        },
        {
          "output_type": "stream",
          "name": "stderr",
          "text": [
            "/usr/local/lib/python3.10/dist-packages/sklearn/neural_network/_multilayer_perceptron.py:686: ConvergenceWarning: Stochastic Optimizer: Maximum iterations (200) reached and the optimization hasn't converged yet.\n",
            "  warnings.warn(\n"
          ]
        }
      ]
    },
    {
      "cell_type": "code",
      "source": [
        "# Question 4\n",
        "\n",
        "y_pred_proba_best = best_model.predict_proba(X_test)\n",
        "log_loss_value_best = log_loss(y_test, y_pred_proba_best)\n",
        "\n",
        "print('Loss function value for best Neural Network MLP model:', log_loss_value_best)\n"
      ],
      "metadata": {
        "colab": {
          "base_uri": "https://localhost:8080/"
        },
        "id": "ebD6pazX46yf",
        "outputId": "4faa021a-1bc5-4bfa-b836-810cbf106db9"
      },
      "execution_count": null,
      "outputs": [
        {
          "output_type": "stream",
          "name": "stdout",
          "text": [
            "Loss function value for best Neural Network MLP model: 0.5195693147677148\n"
          ]
        }
      ]
    }
  ],
  "metadata": {
    "colab": {
      "provenance": []
    },
    "kernelspec": {
      "display_name": "Python 3",
      "name": "python3"
    },
    "language_info": {
      "name": "python"
    }
  },
  "nbformat": 4,
  "nbformat_minor": 0
}